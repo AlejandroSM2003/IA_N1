import tkinter as tk
import random

class HangmanGame:
    def __init__(self, root):
        self.root = root
        self.root.title("Hangman Game")
        self.word_list = ["arbol", "manzana", "computadora", "programar", "trasladar", "procedimiento", "evaluacion"]
        self.secret_word = random.choice(self.word_list)
        self.guesses = []
        self.max_attempts = 6
        self.attempts_left = self.max_attempts
        self.create_widgets()
        self.draw_hangman()

    def create_widgets(self):
        self.canvas = tk.Canvas(self.root, width=400, height=400)
        self.canvas.pack()

        self.word_display = tk.Label(self.root, text=self.display_word(), font=("Arial", 24))
        self.word_display.pack(pady=20)

        self.guess_label = tk.Label(self.root, text="Adivina una letra:", font=("Arial", 16))
        self.guess_label.pack()

        self.guess_entry = tk.Entry(self.root, font=("Arial", 16))
        self.guess_entry.pack()

        self.guess_button = tk.Button(self.root, text="Confirmar", command=self.make_guess, font=("Arial", 16))
        self.guess_button.pack(pady=10)

        self.result_label = tk.Label(self.root, text="", font=("Arial", 16))
        self.result_label.pack()

    def display_word(self):
        displayed_word = ""
        for letter in self.secret_word:
            if letter in self.guesses:
                displayed_word += letter
            else:
                displayed_word += "_"
        return displayed_word

    def make_guess(self):
        guess = self.guess_entry.get().lower()
        self.guess_entry.delete(0, tk.END)

        if len(guess) == 1 and guess.isalpha():
            if guess not in self.guesses:
                self.guesses.append(guess)
                if guess not in self.secret_word:
                    self.attempts_left -= 1
                    self.draw_hangman()
                self.update_display()
            else:
                self.result_label.config(text="Ya seleccionaste esa letra.")
        else:
            self.result_label.config(text="Error.Porfavor ingrese solo una letra.")

    def update_display(self):
        if self.attempts_left <= 0:
            self.result_label.config(text=f"Perdiste! La palabra era '{self.secret_word}'.")
            self.guess_button.config(state=tk.DISABLED)
            self.guess_entry.config(state=tk.DISABLED)
        elif "_" not in self.display_word():
            self.result_label.config(text=f"Felicidades ! Adivinaste la palabra: '{self.secret_word}'.")
            self.guess_button.config(state=tk.DISABLED)
            self.guess_entry.config(state=tk.DISABLED)
        else:
            self.result_label.config(text=f"Intentos restantes: {self.attempts_left}\n{self.display_word()}")

    def draw_hangman(self):
        stages = [
            self.draw_head,
            self.draw_body,
            self.draw_left_leg,
            self.draw_right_leg,
            self.draw_left_arm,
            self.draw_right_arm
        ]
        for i in range(self.max_attempts - self.attempts_left):
            stages[i]()

    def draw_head(self):
        self.canvas.create_oval(150, 100, 250, 200, width=2)

    def draw_body(self):
        self.canvas.create_line(200, 200, 200, 300, width=2)

    def draw_left_leg(self):
        self.canvas.create_line(200, 300, 150, 400, width=2)

    def draw_right_leg(self):
        self.canvas.create_line(200, 300, 250, 400, width=2)

    def draw_left_arm(self):
        self.canvas.create_line(200, 220, 150, 280, width=2)

    def draw_right_arm(self):
        self.canvas.create_line(200, 220, 250, 280, width=2)

def main():
    root = tk.Tk()
    hangman_game = HangmanGame(root)
    root.mainloop()

if __name__ == "__main__":
    main()
